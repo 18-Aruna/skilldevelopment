{
  "nbformat": 4,
  "nbformat_minor": 0,
  "metadata": {
    "colab": {
      "provenance": []
    },
    "kernelspec": {
      "name": "python3",
      "display_name": "Python 3"
    },
    "language_info": {
      "name": "python"
    }
  },
  "cells": [
    {
      "cell_type": "code",
      "execution_count": null,
      "metadata": {
        "colab": {
          "base_uri": "https://localhost:8080/"
        },
        "id": "lmbVEgpSDhPj",
        "outputId": "39ef7706-f498-41e5-e514-b9b4999486f7"
      },
      "outputs": [
        {
          "metadata": {
            "tags": null
          },
          "name": "stdout",
          "output_type": "stream",
          "text": [
            "🩺 Welcome to the AI Medical Assistant!\n",
            "Please describe your symptoms (you can type in natural language). Type 'quit' to exit.\n",
            "\n"
          ]
        }
      ],
      "source": [
        "import re\n",
        "\n",
        "# Sample symptom-to-diagnosis mapping (can be extended)\n",
        "SYMPTOM_DIAGNOSIS_MAP = {\n",
        "    \"fever\": [\"common cold\", \"flu\", \"COVID-19\"],\n",
        "    \"cough\": [\"common cold\", \"flu\", \"COVID-19\", \"bronchitis\"],\n",
        "    \"headache\": [\"migraine\", \"tension headache\", \"flu\", \"COVID-19\"],\n",
        "    \"fatigue\": [\"common cold\", \"flu\", \"anemia\", \"COVID-19\"],\n",
        "    \"sore throat\": [\"common cold\", \"flu\", \"strep throat\"],\n",
        "    \"runny nose\": [\"common cold\", \"allergies\", \"COVID-19\"],\n",
        "    \"muscle pain\": [\"flu\", \"COVID-19\", \"fibromyalgia\"],\n",
        "    \"shortness of breath\": [\"COVID-19\", \"asthma\", \"pneumonia\"]\n",
        "}\n",
        "\n",
        "def preprocess_text(text):\n",
        "    \"\"\"Preprocess user input to extract symptoms\"\"\"\n",
        "    text = text.lower()  # Convert to lowercase\n",
        "    text = re.sub(r'[^a-z\\s]', '', text)  # Remove special characters\n",
        "    return text\n",
        "\n",
        "def extract_symptoms(text):\n",
        "    \"\"\"Extract symptoms from the user input using symptom mapping\"\"\"\n",
        "    symptoms = []\n",
        "    text = preprocess_text(text)\n",
        "\n",
        "    for symptom in SYMPTOM_DIAGNOSIS_MAP:\n",
        "        if symptom in text:\n",
        "            symptoms.append(symptom)\n",
        "\n",
        "    return symptoms\n",
        "\n",
        "def diagnose(symptoms):\n",
        "    \"\"\"Diagnose based on symptoms\"\"\"\n",
        "    possible_diagnoses = set()\n",
        "\n",
        "    for symptom in symptoms:\n",
        "        if symptom in SYMPTOM_DIAGNOSIS_MAP:\n",
        "            possible_diagnoses.update(SYMPTOM_DIAGNOSIS_MAP[symptom])\n",
        "\n",
        "    if not possible_diagnoses:\n",
        "        return [\"No diagnosis found. Please consult a healthcare professional.\"]\n",
        "\n",
        "    return list(possible_diagnoses)\n",
        "\n",
        "def medical_assistant():\n",
        "    \"\"\"Main function to interact with the user\"\"\"\n",
        "    print(\"🩺 Welcome to the AI Medical Assistant!\")\n",
        "    print(\"Please describe your symptoms (you can type in natural language). Type 'quit' to exit.\\n\")\n",
        "\n",
        "    while True:\n",
        "        user_input = input(\"Enter symptoms: \").strip()\n",
        "\n",
        "        if user_input.lower() == 'quit':\n",
        "            print(\"👋 Goodbye! Take care!\")\n",
        "            break\n",
        "\n",
        "        symptoms = extract_symptoms(user_input)\n",
        "        diagnoses = diagnose(symptoms)\n",
        "\n",
        "        print(\"\\nPossible diagnoses based on your symptoms:\")\n",
        "        for diagnosis in diagnoses:\n",
        "            print(f\"• {diagnosis}\")\n",
        "        print()\n",
        "\n",
        "# Run the assistant\n",
        "if __name__ == \"__main__\":\n",
        "    medical_assistant()\n"
      ]
    }
  ]
}